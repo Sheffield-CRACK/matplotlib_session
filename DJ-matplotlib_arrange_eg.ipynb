{
 "cells": [
  {
   "cell_type": "code",
   "execution_count": 1,
   "metadata": {},
   "outputs": [],
   "source": [
    "from pathlib import Path\n",
    "from pprint import pprint\n",
    "\n",
    "import numpy as np\n",
    "import pandas as pd\n",
    "import matplotlib.pyplot as plt\n",
    "from matplotlib.axes import Axes\n",
    "from matplotlib.figure import Figure\n",
    "import matplotlib as mpl"
   ]
  },
  {
   "cell_type": "code",
   "execution_count": 2,
   "metadata": {},
   "outputs": [],
   "source": [
    "CYC_COUNT = 10\n",
    "mpl.rcParams[\"axes.prop_cycle\"] = plt.cycler(\n",
    "    \"color\", plt.cm.brg(np.linspace(0, 0.5, CYC_COUNT))\n",
    ")"
   ]
  },
  {
   "cell_type": "code",
   "execution_count": 3,
   "metadata": {},
   "outputs": [
    {
     "name": "stdout",
     "output_type": "stream",
     "text": [
      "173782\n"
     ]
    }
   ],
   "source": [
    "END = 'Z_0.095'\n",
    "\n",
    "frames_file = Path(f'./photom_detections/photometry_candidates_ALLZ_COMBINE_REFITS{END}.pkl.gz')\n",
    "frame_records: pd.DataFrame = pd.read_pickle(frames_file)\n",
    "\n",
    "print(len(frame_records))\n",
    "grouped_frame_records = frame_records.groupby(['tel', 'ut', 'camera'])\n",
    "\n",
    "grouped_frame_records[['fit2_c0','fit2_c1','fit2_c2']].mean()\n",
    "\n",
    "\n",
    "image_save = Path(f'./photom_detections/pngs_COMBINE{END}/')"
   ]
  },
  {
   "cell_type": "code",
   "execution_count": 19,
   "metadata": {},
   "outputs": [
    {
     "name": "stdout",
     "output_type": "stream",
     "text": [
      "\"tel\",\"ut\",\"camera\",\"zp0_a\",\"zp0_b\",\"zp0_Z1\"\n",
      "1,1,\"ML5644917\",21.5502,-0.0974,21.4528\n",
      "1,2,\"ML0430516\",20.8780,-0.1081,20.7699\n",
      "1,3,\"ML0330316\",21.3904,-0.1326,21.2578\n",
      "1,4,\"ML1252020\",21.4996,-0.0863,21.4134\n",
      "1,5,\"ML0010316\",21.4672,-0.1223,21.3449\n",
      "1,5,\"ML6054917\",21.5391,-0.1640,21.3752\n",
      "1,6,\"ML0420516\",21.4974,-0.1391,21.3583\n",
      "1,6,\"ML6304917\",21.5942,-0.1103,21.4838\n",
      "1,7,\"ML9081020\",21.7569,-0.1411,21.6158\n",
      "1,8,\"ML6094917\",21.5309,-0.1211,21.4098\n",
      "2,1,\"ML1082020\",21.1299,-0.0868,21.0430\n",
      "2,2,\"ML9071020\",21.1747,-0.1641,21.0106\n",
      "2,3,\"ML1242020\",21.5806,-0.1293,21.4513\n",
      "2,4,\"ML1282020\",21.1628,-0.1205,21.0423\n",
      "2,5,\"ML1292020\",21.4795,-0.1414,21.3381\n",
      "2,6,\"ML1352020\",20.4013,-0.1103,20.2911\n",
      "2,7,\"ML9091020\",21.6595,-0.1740,21.4854\n",
      "2,8,\"ML1262020\",21.5205,-0.0513,21.4693\n",
      "3,1,\"ML9731020\",22.2162,-0.3584,21.8578\n",
      "3,2,\"ML0601722\",21.7203,-0.2015,21.5187\n",
      "3,2,\"ML9061020\",22.0503,-0.2877,21.7627\n",
      "3,2,\"ML9191020\",20.6005,-0.2380,20.3624\n",
      "3,3,\"ML9741020\",22.2028,-0.2608,21.9419\n",
      "3,4,\"ML9101020\",21.9252,-0.1678,21.7574\n",
      "3,4,\"ML9751020\",22.1322,-0.2039,21.9283\n",
      "3,5,\"ML9761020\",22.0963,-0.2054,21.8910\n",
      "3,5,\"ML9871020\",22.0743,-0.3033,21.7710\n",
      "3,6,\"ML9121020\",22.0404,-0.2288,21.8116\n",
      "3,6,\"ML9771020\",22.1041,-0.1753,21.9288\n",
      "3,7,\"ML9801020\",22.1877,-0.4121,21.7756\n",
      "3,8,\"ML0621722\",21.8285,-0.2160,21.6126\n",
      "3,8,\"ML9111020\",22.0215,-0.1596,21.8618\n",
      "4,1,\"ML1342020\",21.7416,-0.2374,21.5042\n",
      "4,1,\"ML9101020\",22.1325,-0.3246,21.8079\n",
      "4,2,\"ML9021020\",21.9719,-0.2643,21.7076\n",
      "4,2,\"ML9711020\",22.0845,-0.1894,21.8951\n",
      "4,3,\"ML0551722\",22.1124,-0.2964,21.8160\n",
      "4,3,\"ML1342020\",22.2437,-0.2207,22.0229\n",
      "4,4,\"ML9021020\",22.1404,-0.1801,21.9603\n",
      "4,4,\"ML9111020\",21.8793,-0.1599,21.7194\n",
      "4,5,\"ML0611722\",21.8619,-0.2003,21.6616\n",
      "4,6,\"ML9061020\",21.8617,-0.1847,21.6770\n",
      "4,6,\"ML9871020\",22.2497,-0.3048,21.9449\n",
      "4,7,\"ML0591722\",21.7602,-0.2042,21.5561\n",
      "4,7,\"ML9191020\",21.2794,-0.3576,20.9218\n",
      "4,8,\"ML0601722\",21.7931,-0.1948,21.5983\n",
      "4,8,\"ML9121020\",21.9755,-0.1429,21.8326\n"
     ]
    }
   ],
   "source": [
    "from astropy.modeling import models, fitting\n",
    "from astropy.stats import sigma_clip\n",
    "\n",
    "print('\"tel\",\"ut\",\"camera\",\"zp0_a\",\"zp0_b\",\"zp0_Z1\"')\n",
    "\n",
    "for grp, recs in grouped_frame_records:\n",
    "    airmass = recs[\"airmass\"]\n",
    "    c0_obs = recs[\"fit2_c0\"]\n",
    "    c0_model = models.Polynomial1D(degree=1)\n",
    "    c0_fitter = fitting.FittingWithOutlierRemoval(\n",
    "        fitter=fitting.LinearLSQFitter(),\n",
    "        outlier_func=sigma_clip,\n",
    "        sigma=3,\n",
    "        niter=5,\n",
    "    )\n",
    "    c0_model_fit, clipped_obs = c0_fitter(model=c0_model, x=airmass, y=c0_obs)\n",
    "\n",
    "    csv_line = (\n",
    "        [grp[0], grp[1], f'\"{grp[2]}\"']\n",
    "        + list(c0_model_fit.parameters)\n",
    "        + [sum(c0_model_fit.parameters)]\n",
    "    )\n",
    "\n",
    "    csv_line = [\n",
    "        str(el) if not isinstance(el, float) else f\"{el:.4f}\" for el in csv_line\n",
    "    ]\n",
    "\n",
    "    print(\",\".join(csv_line))"
   ]
  },
  {
   "cell_type": "code",
   "execution_count": 4,
   "metadata": {},
   "outputs": [
    {
     "name": "stdout",
     "output_type": "stream",
     "text": [
      "(1, 1, 'ML5644917') 4000\n"
     ]
    },
    {
     "name": "stdout",
     "output_type": "stream",
     "text": [
      "[[0.449, 0.0206], 0.095]\n",
      "photom_detections/pngs_COMBINEZ_0.095/tel-1_ut-1_cam-ML5644917.png\n",
      "(1, 2, 'ML0430516') 4000\n",
      "[[0.5132, 0.0186], 0.095]\n",
      "photom_detections/pngs_COMBINEZ_0.095/tel-1_ut-2_cam-ML0430516.png\n",
      "(1, 3, 'ML0330316') 4000\n",
      "[[0.4616, 0.0183], 0.095]\n",
      "photom_detections/pngs_COMBINEZ_0.095/tel-1_ut-3_cam-ML0330316.png\n",
      "(1, 4, 'ML1252020') 4000\n",
      "[[0.4407, 0.0144], 0.095]\n",
      "photom_detections/pngs_COMBINEZ_0.095/tel-1_ut-4_cam-ML1252020.png\n",
      "(1, 5, 'ML0010316') 3978\n",
      "[[0.4702, 0.0228], 0.095]\n",
      "photom_detections/pngs_COMBINEZ_0.095/tel-1_ut-5_cam-ML0010316.png\n",
      "(1, 5, 'ML6054917') 3946\n",
      "[[0.4798, 0.0209], 0.095]\n",
      "photom_detections/pngs_COMBINEZ_0.095/tel-1_ut-5_cam-ML6054917.png\n",
      "(1, 6, 'ML0420516') 3726\n",
      "[[0.4368, 0.0217], 0.095]\n",
      "photom_detections/pngs_COMBINEZ_0.095/tel-1_ut-6_cam-ML0420516.png\n",
      "(1, 6, 'ML6304917') 4000\n",
      "[[0.4318, 0.0253], 0.095]\n",
      "photom_detections/pngs_COMBINEZ_0.095/tel-1_ut-6_cam-ML6304917.png\n",
      "(1, 7, 'ML9081020') 4000\n",
      "[[0.424, 0.0192], 0.095]\n",
      "photom_detections/pngs_COMBINEZ_0.095/tel-1_ut-7_cam-ML9081020.png\n",
      "(1, 8, 'ML6094917') 4000\n",
      "[[0.4649, 0.0168], 0.095]\n",
      "photom_detections/pngs_COMBINEZ_0.095/tel-1_ut-8_cam-ML6094917.png\n",
      "(2, 1, 'ML1082020') 4000\n",
      "[[0.4405, 0.0304], 0.095]\n",
      "photom_detections/pngs_COMBINEZ_0.095/tel-2_ut-1_cam-ML1082020.png\n",
      "(2, 2, 'ML9071020') 4000\n",
      "[[0.4259, 0.018], 0.095]\n",
      "photom_detections/pngs_COMBINEZ_0.095/tel-2_ut-2_cam-ML9071020.png\n",
      "(2, 3, 'ML1242020') 4000\n",
      "[[0.4497, 0.0166], 0.095]\n",
      "photom_detections/pngs_COMBINEZ_0.095/tel-2_ut-3_cam-ML1242020.png\n",
      "(2, 4, 'ML1282020') 4000\n",
      "[[0.4782, 0.0142], 0.095]\n",
      "photom_detections/pngs_COMBINEZ_0.095/tel-2_ut-4_cam-ML1282020.png\n",
      "(2, 5, 'ML1292020') 4000\n",
      "[[0.4282, 0.0195], 0.095]\n",
      "photom_detections/pngs_COMBINEZ_0.095/tel-2_ut-5_cam-ML1292020.png\n",
      "(2, 6, 'ML1352020') 4000\n",
      "[[0.5694, 0.0109], 0.095]\n",
      "photom_detections/pngs_COMBINEZ_0.095/tel-2_ut-6_cam-ML1352020.png\n",
      "(2, 7, 'ML9091020') 4000\n",
      "[[0.4299, 0.0191], 0.095]\n",
      "photom_detections/pngs_COMBINEZ_0.095/tel-2_ut-7_cam-ML9091020.png\n",
      "(2, 8, 'ML1262020') 4000\n",
      "[[0.4393, 0.0143], 0.095]\n",
      "photom_detections/pngs_COMBINEZ_0.095/tel-2_ut-8_cam-ML1262020.png\n",
      "(3, 1, 'ML9731020') 3600\n"
     ]
    },
    {
     "name": "stderr",
     "output_type": "stream",
     "text": [
      "/home/djarvis/src/goto-fpe/.venv/lib64/python3.9/site-packages/numpy/lib/function_base.py:2897: RuntimeWarning: invalid value encountered in divide\n",
      "  c /= stddev[:, None]\n",
      "/home/djarvis/src/goto-fpe/.venv/lib64/python3.9/site-packages/numpy/lib/function_base.py:2898: RuntimeWarning: invalid value encountered in divide\n",
      "  c /= stddev[None, :]\n"
     ]
    },
    {
     "name": "stdout",
     "output_type": "stream",
     "text": [
      "[[0.4414, 0.0276], 0.095]\n",
      "photom_detections/pngs_COMBINEZ_0.095/tel-3_ut-1_cam-ML9731020.png\n",
      "(3, 2, 'ML0601722') 3212\n"
     ]
    },
    {
     "name": "stderr",
     "output_type": "stream",
     "text": [
      "/home/djarvis/src/goto-fpe/.venv/lib64/python3.9/site-packages/numpy/lib/function_base.py:2897: RuntimeWarning: invalid value encountered in divide\n",
      "  c /= stddev[:, None]\n",
      "/home/djarvis/src/goto-fpe/.venv/lib64/python3.9/site-packages/numpy/lib/function_base.py:2898: RuntimeWarning: invalid value encountered in divide\n",
      "  c /= stddev[None, :]\n"
     ]
    },
    {
     "name": "stdout",
     "output_type": "stream",
     "text": [
      "[[0.4195, 0.0304], 0.095]\n",
      "photom_detections/pngs_COMBINEZ_0.095/tel-3_ut-2_cam-ML0601722.png\n",
      "(3, 2, 'ML9061020') 3315\n",
      "[[0.4443, 0.0236], 0.095]\n",
      "photom_detections/pngs_COMBINEZ_0.095/tel-3_ut-2_cam-ML9061020.png\n",
      "(3, 2, 'ML9191020') 3578\n",
      "[[0.4526, 0.037], 0.095]\n",
      "photom_detections/pngs_COMBINEZ_0.095/tel-3_ut-2_cam-ML9191020.png\n",
      "(3, 3, 'ML9741020') 3600\n"
     ]
    },
    {
     "name": "stderr",
     "output_type": "stream",
     "text": [
      "/home/djarvis/src/goto-fpe/.venv/lib64/python3.9/site-packages/numpy/lib/function_base.py:2897: RuntimeWarning: invalid value encountered in divide\n",
      "  c /= stddev[:, None]\n",
      "/home/djarvis/src/goto-fpe/.venv/lib64/python3.9/site-packages/numpy/lib/function_base.py:2898: RuntimeWarning: invalid value encountered in divide\n",
      "  c /= stddev[None, :]\n"
     ]
    },
    {
     "name": "stdout",
     "output_type": "stream",
     "text": [
      "[[0.4362, 0.0207], 0.095]\n",
      "photom_detections/pngs_COMBINEZ_0.095/tel-3_ut-3_cam-ML9741020.png\n",
      "(3, 4, 'ML9101020') 3600\n"
     ]
    },
    {
     "name": "stderr",
     "output_type": "stream",
     "text": [
      "/home/djarvis/src/goto-fpe/.venv/lib64/python3.9/site-packages/numpy/lib/function_base.py:2897: RuntimeWarning: invalid value encountered in divide\n",
      "  c /= stddev[:, None]\n",
      "/home/djarvis/src/goto-fpe/.venv/lib64/python3.9/site-packages/numpy/lib/function_base.py:2898: RuntimeWarning: invalid value encountered in divide\n",
      "  c /= stddev[None, :]\n"
     ]
    },
    {
     "name": "stdout",
     "output_type": "stream",
     "text": [
      "[[0.4029, 0.0362], 0.095]\n",
      "photom_detections/pngs_COMBINEZ_0.095/tel-3_ut-4_cam-ML9101020.png\n",
      "(3, 4, 'ML9751020') 3524\n",
      "[[0.4375, 0.0191], 0.095]\n",
      "photom_detections/pngs_COMBINEZ_0.095/tel-3_ut-4_cam-ML9751020.png\n",
      "(3, 5, 'ML9761020') 3526\n",
      "[[0.4262, 0.0214], 0.095]\n",
      "photom_detections/pngs_COMBINEZ_0.095/tel-3_ut-5_cam-ML9761020.png\n",
      "(3, 5, 'ML9871020') 3600\n"
     ]
    },
    {
     "name": "stderr",
     "output_type": "stream",
     "text": [
      "/home/djarvis/src/goto-fpe/.venv/lib64/python3.9/site-packages/numpy/lib/function_base.py:2897: RuntimeWarning: invalid value encountered in divide\n",
      "  c /= stddev[:, None]\n",
      "/home/djarvis/src/goto-fpe/.venv/lib64/python3.9/site-packages/numpy/lib/function_base.py:2898: RuntimeWarning: invalid value encountered in divide\n",
      "  c /= stddev[None, :]\n"
     ]
    },
    {
     "name": "stdout",
     "output_type": "stream",
     "text": [
      "[[0.4057, 0.0364], 0.095]\n",
      "photom_detections/pngs_COMBINEZ_0.095/tel-3_ut-5_cam-ML9871020.png\n",
      "(3, 6, 'ML9121020') 3600\n"
     ]
    },
    {
     "name": "stderr",
     "output_type": "stream",
     "text": [
      "/home/djarvis/src/goto-fpe/.venv/lib64/python3.9/site-packages/numpy/lib/function_base.py:2897: RuntimeWarning: invalid value encountered in divide\n",
      "  c /= stddev[:, None]\n",
      "/home/djarvis/src/goto-fpe/.venv/lib64/python3.9/site-packages/numpy/lib/function_base.py:2898: RuntimeWarning: invalid value encountered in divide\n",
      "  c /= stddev[None, :]\n"
     ]
    },
    {
     "name": "stdout",
     "output_type": "stream",
     "text": [
      "[[0.4214, 0.0336], 0.095]\n",
      "photom_detections/pngs_COMBINEZ_0.095/tel-3_ut-6_cam-ML9121020.png\n",
      "(3, 6, 'ML9771020') 3530\n",
      "[[0.4243, 0.0304], 0.095]\n",
      "photom_detections/pngs_COMBINEZ_0.095/tel-3_ut-6_cam-ML9771020.png\n",
      "(3, 7, 'ML9801020') 3600\n"
     ]
    },
    {
     "name": "stderr",
     "output_type": "stream",
     "text": [
      "/home/djarvis/src/goto-fpe/.venv/lib64/python3.9/site-packages/numpy/lib/function_base.py:2897: RuntimeWarning: invalid value encountered in divide\n",
      "  c /= stddev[:, None]\n",
      "/home/djarvis/src/goto-fpe/.venv/lib64/python3.9/site-packages/numpy/lib/function_base.py:2898: RuntimeWarning: invalid value encountered in divide\n",
      "  c /= stddev[None, :]\n"
     ]
    },
    {
     "name": "stdout",
     "output_type": "stream",
     "text": [
      "[[0.435, 0.0245], 0.095]\n",
      "photom_detections/pngs_COMBINEZ_0.095/tel-3_ut-7_cam-ML9801020.png\n",
      "(3, 8, 'ML0621722') 3600\n"
     ]
    },
    {
     "name": "stderr",
     "output_type": "stream",
     "text": [
      "/home/djarvis/src/goto-fpe/.venv/lib64/python3.9/site-packages/numpy/lib/function_base.py:2897: RuntimeWarning: invalid value encountered in divide\n",
      "  c /= stddev[:, None]\n",
      "/home/djarvis/src/goto-fpe/.venv/lib64/python3.9/site-packages/numpy/lib/function_base.py:2898: RuntimeWarning: invalid value encountered in divide\n",
      "  c /= stddev[None, :]\n"
     ]
    },
    {
     "name": "stdout",
     "output_type": "stream",
     "text": [
      "[[0.4247, 0.0283], 0.095]\n",
      "photom_detections/pngs_COMBINEZ_0.095/tel-3_ut-8_cam-ML0621722.png\n",
      "(3, 8, 'ML9111020') 3320\n",
      "[[0.4508, 0.016], 0.095]\n",
      "photom_detections/pngs_COMBINEZ_0.095/tel-3_ut-8_cam-ML9111020.png\n",
      "(4, 1, 'ML1342020') 3600\n"
     ]
    },
    {
     "name": "stderr",
     "output_type": "stream",
     "text": [
      "/home/djarvis/src/goto-fpe/.venv/lib64/python3.9/site-packages/numpy/lib/function_base.py:2897: RuntimeWarning: invalid value encountered in divide\n",
      "  c /= stddev[:, None]\n",
      "/home/djarvis/src/goto-fpe/.venv/lib64/python3.9/site-packages/numpy/lib/function_base.py:2898: RuntimeWarning: invalid value encountered in divide\n",
      "  c /= stddev[None, :]\n"
     ]
    },
    {
     "name": "stdout",
     "output_type": "stream",
     "text": [
      "[[0.4508, 0.0339], 0.095]\n",
      "photom_detections/pngs_COMBINEZ_0.095/tel-4_ut-1_cam-ML1342020.png\n",
      "(4, 1, 'ML9101020') 3479\n",
      "[[0.4487, 0.0322], 0.095]\n",
      "photom_detections/pngs_COMBINEZ_0.095/tel-4_ut-1_cam-ML9101020.png\n",
      "(4, 2, 'ML9021020') 3598\n",
      "[[0.4179, 0.0366], 0.095]\n",
      "photom_detections/pngs_COMBINEZ_0.095/tel-4_ut-2_cam-ML9021020.png\n",
      "(4, 2, 'ML9711020') 3600\n"
     ]
    },
    {
     "name": "stderr",
     "output_type": "stream",
     "text": [
      "/home/djarvis/src/goto-fpe/.venv/lib64/python3.9/site-packages/numpy/lib/function_base.py:2897: RuntimeWarning: invalid value encountered in divide\n",
      "  c /= stddev[:, None]\n",
      "/home/djarvis/src/goto-fpe/.venv/lib64/python3.9/site-packages/numpy/lib/function_base.py:2898: RuntimeWarning: invalid value encountered in divide\n",
      "  c /= stddev[None, :]\n"
     ]
    },
    {
     "name": "stdout",
     "output_type": "stream",
     "text": [
      "[[0.4399, 0.0177], 0.095]\n",
      "photom_detections/pngs_COMBINEZ_0.095/tel-4_ut-2_cam-ML9711020.png\n",
      "(4, 3, 'ML0551722') 3600\n"
     ]
    },
    {
     "name": "stderr",
     "output_type": "stream",
     "text": [
      "/home/djarvis/src/goto-fpe/.venv/lib64/python3.9/site-packages/numpy/lib/function_base.py:2897: RuntimeWarning: invalid value encountered in divide\n",
      "  c /= stddev[:, None]\n",
      "/home/djarvis/src/goto-fpe/.venv/lib64/python3.9/site-packages/numpy/lib/function_base.py:2898: RuntimeWarning: invalid value encountered in divide\n",
      "  c /= stddev[None, :]\n"
     ]
    },
    {
     "name": "stdout",
     "output_type": "stream",
     "text": [
      "[[0.4221, 0.024], 0.095]\n",
      "photom_detections/pngs_COMBINEZ_0.095/tel-4_ut-3_cam-ML0551722.png\n",
      "(4, 3, 'ML1342020') 3302\n"
     ]
    },
    {
     "name": "stderr",
     "output_type": "stream",
     "text": [
      "/home/djarvis/src/goto-fpe/.venv/lib64/python3.9/site-packages/numpy/lib/function_base.py:2897: RuntimeWarning: invalid value encountered in divide\n",
      "  c /= stddev[:, None]\n",
      "/home/djarvis/src/goto-fpe/.venv/lib64/python3.9/site-packages/numpy/lib/function_base.py:2898: RuntimeWarning: invalid value encountered in divide\n",
      "  c /= stddev[None, :]\n"
     ]
    },
    {
     "name": "stdout",
     "output_type": "stream",
     "text": [
      "[[0.4311, 0.0261], 0.095]\n",
      "photom_detections/pngs_COMBINEZ_0.095/tel-4_ut-3_cam-ML1342020.png\n",
      "(4, 4, 'ML9021020') 3482\n",
      "[[0.4236, 0.0241], 0.095]\n",
      "photom_detections/pngs_COMBINEZ_0.095/tel-4_ut-4_cam-ML9021020.png\n",
      "(4, 4, 'ML9111020') 3600\n"
     ]
    },
    {
     "name": "stderr",
     "output_type": "stream",
     "text": [
      "/home/djarvis/src/goto-fpe/.venv/lib64/python3.9/site-packages/numpy/lib/function_base.py:2897: RuntimeWarning: invalid value encountered in divide\n",
      "  c /= stddev[:, None]\n",
      "/home/djarvis/src/goto-fpe/.venv/lib64/python3.9/site-packages/numpy/lib/function_base.py:2898: RuntimeWarning: invalid value encountered in divide\n",
      "  c /= stddev[None, :]\n"
     ]
    },
    {
     "name": "stdout",
     "output_type": "stream",
     "text": [
      "[[0.4286, 0.0243], 0.095]\n",
      "photom_detections/pngs_COMBINEZ_0.095/tel-4_ut-4_cam-ML9111020.png\n",
      "(4, 5, 'ML0611722') 3600\n"
     ]
    },
    {
     "name": "stderr",
     "output_type": "stream",
     "text": [
      "/home/djarvis/src/goto-fpe/.venv/lib64/python3.9/site-packages/numpy/lib/function_base.py:2897: RuntimeWarning: invalid value encountered in divide\n",
      "  c /= stddev[:, None]\n",
      "/home/djarvis/src/goto-fpe/.venv/lib64/python3.9/site-packages/numpy/lib/function_base.py:2898: RuntimeWarning: invalid value encountered in divide\n",
      "  c /= stddev[None, :]\n"
     ]
    },
    {
     "name": "stdout",
     "output_type": "stream",
     "text": [
      "[[0.4271, 0.0289], 0.095]\n",
      "photom_detections/pngs_COMBINEZ_0.095/tel-4_ut-5_cam-ML0611722.png\n",
      "(4, 6, 'ML9061020') 3600\n"
     ]
    },
    {
     "name": "stderr",
     "output_type": "stream",
     "text": [
      "/home/djarvis/src/goto-fpe/.venv/lib64/python3.9/site-packages/numpy/lib/function_base.py:2897: RuntimeWarning: invalid value encountered in divide\n",
      "  c /= stddev[:, None]\n",
      "/home/djarvis/src/goto-fpe/.venv/lib64/python3.9/site-packages/numpy/lib/function_base.py:2898: RuntimeWarning: invalid value encountered in divide\n",
      "  c /= stddev[None, :]\n"
     ]
    },
    {
     "name": "stdout",
     "output_type": "stream",
     "text": [
      "[[0.4276, 0.0323], 0.095]\n",
      "photom_detections/pngs_COMBINEZ_0.095/tel-4_ut-6_cam-ML9061020.png\n",
      "(4, 6, 'ML9871020') 3480\n",
      "[[0.4234, 0.0328], 0.095]\n",
      "photom_detections/pngs_COMBINEZ_0.095/tel-4_ut-6_cam-ML9871020.png\n",
      "(4, 7, 'ML0591722') 3600\n"
     ]
    },
    {
     "name": "stderr",
     "output_type": "stream",
     "text": [
      "/home/djarvis/src/goto-fpe/.venv/lib64/python3.9/site-packages/numpy/lib/function_base.py:2897: RuntimeWarning: invalid value encountered in divide\n",
      "  c /= stddev[:, None]\n",
      "/home/djarvis/src/goto-fpe/.venv/lib64/python3.9/site-packages/numpy/lib/function_base.py:2898: RuntimeWarning: invalid value encountered in divide\n",
      "  c /= stddev[None, :]\n"
     ]
    },
    {
     "name": "stdout",
     "output_type": "stream",
     "text": [
      "[[0.4363, 0.0263], 0.095]\n",
      "photom_detections/pngs_COMBINEZ_0.095/tel-4_ut-7_cam-ML0591722.png\n",
      "(4, 7, 'ML9191020') 3303\n",
      "[[0.4533, 0.0391], 0.095]\n",
      "photom_detections/pngs_COMBINEZ_0.095/tel-4_ut-7_cam-ML9191020.png\n",
      "(4, 8, 'ML0601722') 3600\n"
     ]
    },
    {
     "name": "stderr",
     "output_type": "stream",
     "text": [
      "/home/djarvis/src/goto-fpe/.venv/lib64/python3.9/site-packages/numpy/lib/function_base.py:2897: RuntimeWarning: invalid value encountered in divide\n",
      "  c /= stddev[:, None]\n",
      "/home/djarvis/src/goto-fpe/.venv/lib64/python3.9/site-packages/numpy/lib/function_base.py:2898: RuntimeWarning: invalid value encountered in divide\n",
      "  c /= stddev[None, :]\n"
     ]
    },
    {
     "name": "stdout",
     "output_type": "stream",
     "text": [
      "[[0.4306, 0.0216], 0.095]\n",
      "photom_detections/pngs_COMBINEZ_0.095/tel-4_ut-8_cam-ML0601722.png\n",
      "(4, 8, 'ML9121020') 3483\n",
      "[[0.4376, 0.0214], 0.095]\n",
      "photom_detections/pngs_COMBINEZ_0.095/tel-4_ut-8_cam-ML9121020.png\n"
     ]
    }
   ],
   "source": [
    "grp: tuple\n",
    "recs: pd.DataFrame\n",
    "\n",
    "\n",
    "columns = [\n",
    "    \"fit2_c0\",\n",
    "    \"fit2_c1\",\n",
    "    \"fit2_c2\",\n",
    "]\n",
    "groups = [\n",
    "    'c0/\"ZP\"',\n",
    "    \"c1\",\n",
    "    \"c2\",\n",
    "]\n",
    "invert = [\n",
    "    False,\n",
    "    False,\n",
    "    False,\n",
    "]\n",
    "ylims = [\n",
    "    # (frame_records[\"fit2_c0\"].min() - 0.1, frame_records[\"fit2_c0\"].max() + 0.1),\n",
    "    # (frame_records[\"fit2_c1\"].min() - 0.01, frame_records[\"fit2_c1\"].max() + 0.01),\n",
    "    # (frame_records[\"fit2_c2\"].min() - 0.01, frame_records[\"fit2_c2\"].max() + 0.01),\n",
    "    (17.5, 22.5),\n",
    "    (0.4, 0.6),\n",
    "    (0.06, 0.13),\n",
    "]\n",
    "splitlen = int(len(columns) / len(groups))\n",
    "\n",
    "\n",
    "config_dump = {}\n",
    "\n",
    "\n",
    "for grp, recs in grouped_frame_records:\n",
    "    print(grp, len(recs))\n",
    "\n",
    "    if pd.isna(recs.iloc[0][columns[-1]]):\n",
    "        continue\n",
    "\n",
    "    fig: Figure\n",
    "    axes: list[Axes]\n",
    "\n",
    "    fig = plt.figure(figsize=(15, 15))\n",
    "    axes = [\n",
    "        plt.subplot(6, 6, (1, 8)),\n",
    "        plt.subplot(6, 6, (3, 10)),\n",
    "        plt.subplot(6, 6, (5, 12)),\n",
    "        plt.subplot(6, 6, (13, 27)),\n",
    "        plt.subplot(6, 6, (16, 24)),\n",
    "        plt.subplot(6, 6, (28, 36)),\n",
    "    ]\n",
    "\n",
    "    def plotviolin(\n",
    "        ax: Axes,\n",
    "        dataset: pd.DataFrame,\n",
    "        dataset_names,\n",
    "        title,\n",
    "        invert_y,\n",
    "        ylims,\n",
    "        #side=\"both\",\n",
    "    ):\n",
    "        grouped_datasets = dataset.groupby(\"airmass_group\")\n",
    "        medians = []\n",
    "        xs = []\n",
    "        for airmass_group, grouprecs in grouped_datasets:\n",
    "            medians.append(grouprecs[dataset_names].median())\n",
    "            x = int(airmass_group) / 10 + 0.05\n",
    "            xs.append(x)\n",
    "            violinplot = ax.violinplot(\n",
    "                grouprecs[dataset_names],\n",
    "                positions=[x],\n",
    "                widths=0.1,\n",
    "                showmedians=True,\n",
    "                #side=side,\n",
    "            )\n",
    "        mean_airmass = dataset[\"airmass\"].mean()\n",
    "        mean_value = dataset[dataset_names[0]].mean()\n",
    "        # b, a = np.polyfit(xs, medians, deg=1)\n",
    "        b, a = np.polyfit(dataset[\"airmass\"], dataset[dataset_names], deg=1)\n",
    "        # print(dataset[\"airmass\"].values)\n",
    "        # print(dataset[dataset_names[0]].values)\n",
    "\n",
    "        corrcoef = np.corrcoef(\n",
    "            dataset[\"airmass\"].values, dataset[dataset_names[0]].values\n",
    "        )\n",
    "        # print(corrcoef)\n",
    "        x = np.linspace(1, 2, 2)\n",
    "        ax.plot(\n",
    "            x,\n",
    "            a + b * x,\n",
    "            \"--\",\n",
    "            c=\"k\",\n",
    "            alpha=0.4,\n",
    "            label=f\"a={a[0]:.3f}, b={b[0]:.3f}, corr={corrcoef[0,1]:.2f}\",\n",
    "        )\n",
    "        ax.scatter(\n",
    "            [mean_airmass],\n",
    "            [mean_value],\n",
    "            c=\"k\",\n",
    "            marker=\"X\",\n",
    "            label=f\"x,y mean: {mean_airmass:.2f},{mean_value:.4f}\",\n",
    "        )\n",
    "        ax.legend()\n",
    "\n",
    "        ax.set_title(title)\n",
    "        ax.set_ylim(ylims)\n",
    "        ax.set_xlabel(\"airmass\")\n",
    "        ax.set_xticks(np.arange(1, 2.1, 0.1))\n",
    "        if invert_y:\n",
    "            ax.invert_yaxis()\n",
    "        return violinplot\n",
    "\n",
    "    def plotfit(\n",
    "        ax: Axes,\n",
    "        dataset: pd.DataFrame,\n",
    "        norm_c0: bool,\n",
    "        title: str,\n",
    "    ):\n",
    "        def _model(x, c0, c1, c2):\n",
    "            if norm_c0:\n",
    "                c0 = 0\n",
    "            return x**2 * c2 + x * c1 + c0\n",
    "\n",
    "        x = np.linspace(-0.6, 1.6, 200)\n",
    "\n",
    "        grouped_datasets = dataset.groupby(\"airmass_group\")\n",
    "\n",
    "        for airmass_group, grouprecs in grouped_datasets:\n",
    "            c0 = grouprecs[\"fit2_c0\"].median()\n",
    "            c1 = grouprecs[\"fit2_c1\"].iloc[0]\n",
    "            c2 = grouprecs[\"fit2_c2\"].iloc[0]\n",
    "            airmass = airmass_group / 10\n",
    "            #print(airmass, c0, c1, c2)\n",
    "            y = _model(x, c0, c1, c2)\n",
    "\n",
    "            ax.plot(x, y, label=f\"Z = {airmass}\")\n",
    "\n",
    "        xlim = ax.get_xlim()\n",
    "        ylim = ax.get_ylim()\n",
    "        ax.hlines(0, *xlim, colors=\"k\")\n",
    "        ax.vlines(0, *ylim, colors=\"k\")\n",
    "        ax.set_xlim(*xlim)\n",
    "        ax.set_ylim(*ylim)\n",
    "        if norm_c0:\n",
    "            title += \" (normalised $c_0=0$)\"\n",
    "        ax.set_title(title)\n",
    "        ax.set_ylabel(\"response $g-\\mathrm{{mag_{{inst}}}} / mag$\")\n",
    "        ax.set_xlabel(\"color $g-r$ / mag\")\n",
    "\n",
    "    def plotfitfit(\n",
    "        ax: Axes,\n",
    "        dataset: pd.DataFrame,\n",
    "        norm_c0: bool,\n",
    "        title: str,\n",
    "    ):\n",
    "        if not norm_c0:\n",
    "            raise ValueError(\"func can only do normalised c0, `norm_c0`=False\")\n",
    "\n",
    "        axins = [\n",
    "            ax.inset_axes([0.1, 0.6, 0.3, 0.3], xlim=(-0.61, -0.5), ylim=(-0.31, -0.2)),\n",
    "            ax.inset_axes([0.5, 0.1, 0.4, 0.4], xlim=(1.41, 1.61), ylim=(0.9, 1.1)),\n",
    "        ]\n",
    "        for axin in axins:\n",
    "            ax.indicate_inset_zoom(axin, edgecolor=\"black\")\n",
    "\n",
    "        def _fitmodel(x, c1, c2):\n",
    "            return x**2 * c2 + x * c1\n",
    "\n",
    "        x = np.linspace(-0.6, 1.6, 200)\n",
    "\n",
    "        b_c1, a_c1 = np.polyfit(dataset[\"airmass\"], dataset[\"fit2_c1\"], deg=1)\n",
    "        b_c2, a_c2 = np.polyfit(dataset[\"airmass\"], dataset[\"fit2_c2\"], deg=1)\n",
    "\n",
    "        dp=4\n",
    "        conf = [[round(a_c1,dp), round(b_c1,dp)], round(a_c2,dp)]\n",
    "\n",
    "        print(conf)\n",
    "\n",
    "        config_dump[':'.join(str(x) for x in grp)] = conf\n",
    "\n",
    "        for airmass_group in range(10, 20):\n",
    "            airmass = airmass_group / 10\n",
    "            c1 = b_c1 * airmass + a_c1\n",
    "            c2 = b_c2 * airmass + a_c2\n",
    "            #print(airmass, c1, c2)\n",
    "            y = _fitmodel(x, c1, c2)\n",
    "\n",
    "            for axis in ax, *axins:\n",
    "                axis.plot(x, y, label=f\"Z = {airmass}\")\n",
    "\n",
    "        xlim = ax.get_xlim()\n",
    "        ylim = ax.get_ylim()\n",
    "        ax.hlines(0, *xlim, colors=\"k\")\n",
    "        ax.vlines(0, *ylim, colors=\"k\")\n",
    "        ax.set_xlim(*xlim)\n",
    "        ax.set_ylim(*ylim)\n",
    "        if norm_c0:\n",
    "            title += \" (normalised $c_0=0$)\"\n",
    "        ax.set_title(title)\n",
    "        ax.set_ylabel(\"response $g-\\mathrm{{mag_{{inst}}}} / mag$\")\n",
    "        ax.set_xlabel(\"color $g-r$ / mag\")\n",
    "\n",
    "    for i in range(len(groups)):\n",
    "        cols = columns[i * splitlen : (i + 1) * splitlen]\n",
    "        plotviolin(\n",
    "            axes[i],\n",
    "            dataset=recs,\n",
    "            dataset_names=cols,\n",
    "            title=groups[i],\n",
    "            invert_y=invert[i],\n",
    "            ylims=ylims[i],\n",
    "        )\n",
    "\n",
    "    plotfit(\n",
    "        ax=axes[3],\n",
    "        dataset=recs,\n",
    "        norm_c0=False,\n",
    "        title=\"fit lines\",\n",
    "    )\n",
    "    plotfit(\n",
    "        ax=axes[4],\n",
    "        dataset=recs,\n",
    "        norm_c0=True,\n",
    "        title=\"fit lines\",\n",
    "    )\n",
    "    plotfitfit(\n",
    "        ax=axes[5],\n",
    "        dataset=recs,\n",
    "        norm_c0=True,\n",
    "        title=\"fit line gradients\",\n",
    "    )\n",
    "\n",
    "    axes[0].set_ylabel(\"mag\")\n",
    "    mainlabel = f\"tel-{grp[0]}_ut-{grp[1]}_cam-{grp[2]}\"\n",
    "    fig.suptitle(f\"{mainlabel}  ({len(recs)})\")\n",
    "\n",
    "    fig.tight_layout()\n",
    "    \n",
    "    figfile = image_save / f\"{mainlabel}.png\"\n",
    "    print(figfile)\n",
    "    plt.savefig(figfile)\n",
    "    #plt.show()\n",
    "    plt.close()\n",
    "\n",
    "    # break"
   ]
  },
  {
   "cell_type": "code",
   "execution_count": 5,
   "metadata": {},
   "outputs": [
    {
     "name": "stdout",
     "output_type": "stream",
     "text": [
      "{\"1:1:ML5644917:L:g:r\": [[0.449, 0.0206], 0.095],\n",
      "\"1:2:ML0430516:L:g:r\": [[0.5132, 0.0186], 0.095],\n",
      "\"1:3:ML0330316:L:g:r\": [[0.4616, 0.0183], 0.095],\n",
      "\"1:4:ML1252020:L:g:r\": [[0.4407, 0.0144], 0.095],\n",
      "\"1:5:ML0010316:L:g:r\": [[0.4702, 0.0228], 0.095],\n",
      "\"1:5:ML6054917:L:g:r\": [[0.4798, 0.0209], 0.095],\n",
      "\"1:6:ML0420516:L:g:r\": [[0.4368, 0.0217], 0.095],\n",
      "\"1:6:ML6304917:L:g:r\": [[0.4318, 0.0253], 0.095],\n",
      "\"1:7:ML9081020:L:g:r\": [[0.424, 0.0192], 0.095],\n",
      "\"1:8:ML6094917:L:g:r\": [[0.4649, 0.0168], 0.095],\n",
      "\"2:1:ML1082020:L:g:r\": [[0.4405, 0.0304], 0.095],\n",
      "\"2:2:ML9071020:L:g:r\": [[0.4259, 0.018], 0.095],\n",
      "\"2:3:ML1242020:L:g:r\": [[0.4497, 0.0166], 0.095],\n",
      "\"2:4:ML1282020:L:g:r\": [[0.4782, 0.0142], 0.095],\n",
      "\"2:5:ML1292020:L:g:r\": [[0.4282, 0.0195], 0.095],\n",
      "\"2:6:ML1352020:L:g:r\": [[0.5694, 0.0109], 0.095],\n",
      "\"2:7:ML9091020:L:g:r\": [[0.4299, 0.0191], 0.095],\n",
      "\"2:8:ML1262020:L:g:r\": [[0.4393, 0.0143], 0.095],\n",
      "\"3:1:ML9731020:L:g:r\": [[0.4414, 0.0276], 0.095],\n",
      "\"3:2:ML0601722:L:g:r\": [[0.4195, 0.0304], 0.095],\n",
      "\"3:2:ML9061020:L:g:r\": [[0.4443, 0.0236], 0.095],\n",
      "\"3:2:ML9191020:L:g:r\": [[0.4526, 0.037], 0.095],\n",
      "\"3:3:ML9741020:L:g:r\": [[0.4362, 0.0207], 0.095],\n",
      "\"3:4:ML9101020:L:g:r\": [[0.4029, 0.0362], 0.095],\n",
      "\"3:4:ML9751020:L:g:r\": [[0.4375, 0.0191], 0.095],\n",
      "\"3:5:ML9761020:L:g:r\": [[0.4262, 0.0214], 0.095],\n",
      "\"3:5:ML9871020:L:g:r\": [[0.4057, 0.0364], 0.095],\n",
      "\"3:6:ML9121020:L:g:r\": [[0.4214, 0.0336], 0.095],\n",
      "\"3:6:ML9771020:L:g:r\": [[0.4243, 0.0304], 0.095],\n",
      "\"3:7:ML9801020:L:g:r\": [[0.435, 0.0245], 0.095],\n",
      "\"3:8:ML0621722:L:g:r\": [[0.4247, 0.0283], 0.095],\n",
      "\"3:8:ML9111020:L:g:r\": [[0.4508, 0.016], 0.095],\n",
      "\"4:1:ML1342020:L:g:r\": [[0.4508, 0.0339], 0.095],\n",
      "\"4:1:ML9101020:L:g:r\": [[0.4487, 0.0322], 0.095],\n",
      "\"4:2:ML9021020:L:g:r\": [[0.4179, 0.0366], 0.095],\n",
      "\"4:2:ML9711020:L:g:r\": [[0.4399, 0.0177], 0.095],\n",
      "\"4:3:ML0551722:L:g:r\": [[0.4221, 0.024], 0.095],\n",
      "\"4:3:ML1342020:L:g:r\": [[0.4311, 0.0261], 0.095],\n",
      "\"4:4:ML9021020:L:g:r\": [[0.4236, 0.0241], 0.095],\n",
      "\"4:4:ML9111020:L:g:r\": [[0.4286, 0.0243], 0.095],\n",
      "\"4:5:ML0611722:L:g:r\": [[0.4271, 0.0289], 0.095],\n",
      "\"4:6:ML9061020:L:g:r\": [[0.4276, 0.0323], 0.095],\n",
      "\"4:6:ML9871020:L:g:r\": [[0.4234, 0.0328], 0.095],\n",
      "\"4:7:ML0591722:L:g:r\": [[0.4363, 0.0263], 0.095],\n",
      "\"4:7:ML9191020:L:g:r\": [[0.4533, 0.0391], 0.095],\n",
      "\"4:8:ML0601722:L:g:r\": [[0.4306, 0.0216], 0.095],\n",
      "\"4:8:ML9121020:L:g:r\": [[0.4376, 0.0214], 0.095]}\n"
     ]
    }
   ],
   "source": [
    "output = {\n",
    "    grp+\":L:g:r\": conf for grp, conf in config_dump.items()\n",
    "}\n",
    "\n",
    "import json\n",
    "\n",
    "print(json.dumps(output).replace(', \"', ',\\n\"'))"
   ]
  },
  {
   "cell_type": "code",
   "execution_count": null,
   "metadata": {},
   "outputs": [],
   "source": []
  },
  {
   "cell_type": "code",
   "execution_count": null,
   "metadata": {},
   "outputs": [],
   "source": []
  }
 ],
 "metadata": {
  "kernelspec": {
   "display_name": ".venv",
   "language": "python",
   "name": "python3"
  },
  "language_info": {
   "codemirror_mode": {
    "name": "ipython",
    "version": 3
   },
   "file_extension": ".py",
   "mimetype": "text/x-python",
   "name": "python",
   "nbconvert_exporter": "python",
   "pygments_lexer": "ipython3",
   "version": "3.9.13"
  }
 },
 "nbformat": 4,
 "nbformat_minor": 2
}
